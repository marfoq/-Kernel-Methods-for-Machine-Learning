{
 "cells": [
  {
   "cell_type": "code",
   "execution_count": 1,
   "metadata": {},
   "outputs": [],
   "source": [
    "import numpy as np\n",
    "import pandas as pd \n",
    "from tqdm import tqdm\n",
    "import os "
   ]
  },
  {
   "cell_type": "markdown",
   "metadata": {},
   "source": [
    "# Kernel Methods for Machine Learning\n",
    "\n",
    "## Data Loading and exploration"
   ]
  },
  {
   "cell_type": "code",
   "execution_count": 9,
   "metadata": {
    "scrolled": true
   },
   "outputs": [],
   "source": [
    "# Train features\n",
    "df_Xtr0 = pd.read_csv(\"Data/Xtr0.csv\")\n",
    "df_Xtr1 = pd.read_csv(\"Data/Xtr1.csv\")\n",
    "df_Xtr2 = pd.read_csv(\"Data/Xtr2.csv\")\n",
    "\n",
    "df_Xtr0_mat100 = pd.read_csv(\"Data/Xtr0_mat100.csv\", header=None, sep=' ')\n",
    "df_Xtr1_mat100 = pd.read_csv(\"Data/Xtr1_mat100.csv\", header=None, sep=' ')\n",
    "df_Xtr2_mat100 = pd.read_csv(\"Data/Xtr2_mat100.csv\", header=None, sep=' ')\n",
    "\n",
    "# Train labels\n",
    "df_Ytr0 = pd.read_csv(\"Data/Ytr0.csv\")\n",
    "df_Ytr1 = pd.read_csv(\"Data/Ytr1.csv\")\n",
    "df_Ytr2 = pd.read_csv(\"Data/Ytr2.csv\")\n",
    "\n",
    "# Test features\n",
    "df_Xte0 = pd.read_csv(\"Data/Xte0.csv\")\n",
    "df_Xte1 = pd.read_csv(\"Data/Xte1.csv\")\n",
    "df_Xte2 = pd.read_csv(\"Data/Xte2.csv\")\n",
    "\n",
    "df_Xte0_mat100 = pd.read_csv(\"Data/Xte0_mat100.csv\", header=None, sep=' ')\n",
    "df_Xte1_mat100 = pd.read_csv(\"Data/Xte1_mat100.csv\", header=None, sep=' ')\n",
    "df_Xte2_mat100 = pd.read_csv(\"Data/Xte2_mat100.csv\", header=None, sep=' ')"
   ]
  },
  {
   "cell_type": "markdown",
   "metadata": {},
   "source": [
    "## 2. Gaussian Kernel"
   ]
  },
  {
   "cell_type": "markdown",
   "metadata": {},
   "source": [
    "### 2.1 Define the kernel"
   ]
  },
  {
   "cell_type": "code",
   "execution_count": 96,
   "metadata": {},
   "outputs": [],
   "source": [
    "## We need to parallize its computation\n",
    "def GaussKernel(X1, X2, sigma = 1):\n",
    "    n, m = X1.shape[0], X2.shape[0]\n",
    "    K = np.zeros((n,m))\n",
    "    \n",
    "    for i in range(n):\n",
    "        for j in range(m):\n",
    "            K[i,j] = np.exp(-((np.linalg.norm(X1[i]-X2[j]))**2)/(2*sigma**2))\n",
    "    return K"
   ]
  },
  {
   "cell_type": "markdown",
   "metadata": {},
   "source": [
    "We compute the Kernel matrix for each of the tree train sets and we save them in *Kernel_Matrix* directory"
   ]
  },
  {
   "cell_type": "code",
   "execution_count": 98,
   "metadata": {},
   "outputs": [],
   "source": [
    "# Tranforming into numpy.arrays -- train\n",
    "Xtr0_mat100 = np.array(df_Xtr0_mat100)\n",
    "Xtr1_mat100 = np.array(df_Xtr1_mat100)\n",
    "Xtr2_mat100 = np.array(df_Xtr2_mat100)\n",
    "\n",
    "# Tranforming into numpy.arrays -- test\n",
    "Xte0_mat100 = np.array(df_Xte0_mat100)\n",
    "Xte1_mat100 = np.array(df_Xte1_mat100)\n",
    "Xte2_mat100 = np.array(df_Xte2_mat100)\n",
    "\n",
    "# Transforming the labels into numpy.arrays \n",
    "y0 = np.array(df_Ytr0)[:,1]\n",
    "y1 = np.array(df_Ytr1)[:,1]\n",
    "y2 = np.array(df_Ytr2)[:,1]\n",
    "\n"
   ]
  },
  {
   "cell_type": "code",
   "execution_count": null,
   "metadata": {},
   "outputs": [],
   "source": [
    "# We should parallelize this computation\n",
    "K_Xtr0 = GaussKernel(Xtr0_mat100, Xtr0_mat100)\n",
    "np.save(\"Kernel_Matrix/gaussian_kernel_Xtr0.npy\",K_Xtr0)\n",
    "\n",
    "K_Xtr1 = GaussKernel(Xtr1_mat100, Xtr1_mat100)\n",
    "np.save(\"Kernel_Matrix/gaussian_kernel_Xtr1.npy\",K_Xtr1)\n",
    "\n",
    "K_Xtr2 = GaussKernel(Xtr2_mat100, Xtr2_mat100)\n",
    "np.save(\"Kernel_Matrix/gaussian_kernel_Xtr2.npy\",K_Xtr2)"
   ]
  },
  {
   "cell_type": "markdown",
   "metadata": {},
   "source": [
    "### 2.2. Implement SVM with gaussian kernel"
   ]
  },
  {
   "cell_type": "markdown",
   "metadata": {},
   "source": [
    "We solve the optimization problem $$\\left\\{\\begin{matrix}\n",
    "\\underset{\\alpha \\in \\mathbb{R}^{n}}{\\text{max}} \\hspace{0.1cm} 2\\alpha^{T}y - \\alpha^{T}K\\alpha \\\\ 0 \\leq y_i\\alpha_i \\leq \\frac{1}{2\\lambda n}, \\hspace{0.5cm} \\text{for} \\hspace{0.3cm} i = 0...n\n",
    "\\end{matrix}\\right. \\Leftrightarrow \\left\\{\\begin{matrix}\n",
    "\\underset{\\alpha \\in \\mathbb{R}^{n}}{\\text{min}} \\hspace{0.1cm} \\frac{1}{2}\\alpha^{T}P\\alpha + q^{t}\\alpha  \\\\ G\\alpha \\leq h\n",
    "\\end{matrix}\\right.   $$\n",
    "Where $\\tilde{P} = K$, $q = -y$, $G =\\binom{\\text{Diag}(y)}{-\\text{Diag}(y)} $ and $h=\\binom{\\frac{1}{2\\lambda n}\\mathcal{1}}{0}$"
   ]
  },
  {
   "cell_type": "code",
   "execution_count": 5,
   "metadata": {},
   "outputs": [],
   "source": [
    "import cvxopt\n",
    "from cvxopt import matrix\n",
    "\n",
    "def solve_dual_SVM(K,y, lambda_ = 1):\n",
    "    n = K.shape[0] \n",
    "    G = np.vstack((np.diag(y),-np.diag(y)))\n",
    "    h = np.vstack(((1/(2*lambda_*n))*np.ones((n,1)),np.zeros((n,1))))\n",
    "\n",
    "    P = K\n",
    "    q = -y.reshape(-1,1)\n",
    "    #P = .5 * (P + P.T)  # make sure P is symmetric\n",
    "    args = [matrix(P), matrix(q)]\n",
    "\n",
    "    args.extend([matrix(G), matrix(h)])\n",
    "\n",
    "    sol = cvxopt.solvers.qp(*args) \n",
    "\n",
    "    return np.array(sol['x']).reshape((P.shape[1],))\n",
    "    \n"
   ]
  },
  {
   "cell_type": "code",
   "execution_count": 21,
   "metadata": {},
   "outputs": [
    {
     "name": "stdout",
     "output_type": "stream",
     "text": [
      "     pcost       dcost       gap    pres   dres\n",
      " 0:  4.8427e+04 -1.1273e+07  1e+07  2e-17  4e-12\n",
      " 1: -1.8791e+05 -1.5900e+06  1e+06  1e-16  4e-12\n",
      " 2: -2.7924e+05 -5.3110e+05  3e+05  1e-16  5e-12\n",
      " 3: -3.5556e+05 -4.6328e+05  1e+05  2e-16  6e-12\n",
      " 4: -3.8295e+05 -4.2948e+05  5e+04  2e-16  6e-12\n",
      " 5: -3.9593e+05 -4.1390e+05  2e+04  2e-16  6e-12\n",
      " 6: -4.0125e+05 -4.0765e+05  6e+03  2e-16  7e-12\n",
      " 7: -4.0309e+05 -4.0546e+05  2e+03  2e-16  7e-12\n",
      " 8: -4.0387e+05 -4.0453e+05  7e+02  2e-16  7e-12\n",
      " 9: -4.0413e+05 -4.0423e+05  1e+02  2e-16  7e-12\n",
      "10: -4.0417e+05 -4.0418e+05  2e+01  2e-16  7e-12\n",
      "11: -4.0417e+05 -4.0417e+05  5e-01  2e-16  7e-12\n",
      "12: -4.0417e+05 -4.0417e+05  1e-02  2e-16  7e-12\n",
      "Optimal solution found.\n",
      "     pcost       dcost       gap    pres   dres\n",
      " 0:  2.7651e+05 -1.3674e+07  1e+07  3e-17  3e-12\n",
      " 1: -1.2478e+05 -1.8381e+06  2e+06  1e-16  3e-12\n",
      " 2: -2.4390e+05 -5.6702e+05  3e+05  1e-16  4e-12\n",
      " 3: -3.1539e+05 -4.5061e+05  1e+05  2e-16  4e-12\n",
      " 4: -3.3809e+05 -4.1750e+05  8e+04  2e-16  5e-12\n",
      " 5: -3.5539e+05 -3.9185e+05  4e+04  2e-16  5e-12\n",
      " 6: -3.6275e+05 -3.8184e+05  2e+04  2e-16  5e-12\n",
      " 7: -3.6805e+05 -3.7453e+05  6e+03  2e-16  6e-12\n",
      " 8: -3.6991e+05 -3.7205e+05  2e+03  2e-16  6e-12\n",
      " 9: -3.7060e+05 -3.7114e+05  5e+02  2e-16  6e-12\n",
      "10: -3.7082e+05 -3.7088e+05  6e+01  2e-16  6e-12\n",
      "11: -3.7084e+05 -3.7085e+05  5e+00  2e-16  6e-12\n",
      "12: -3.7085e+05 -3.7085e+05  3e-01  2e-16  6e-12\n",
      "Optimal solution found.\n",
      "     pcost       dcost       gap    pres   dres\n",
      " 0:  5.0993e+05 -6.0600e+07  6e+07  2e-02  3e-12\n",
      " 1: -5.4443e+04 -4.5824e+06  5e+06  1e-03  3e-12\n",
      " 2: -2.0940e+05 -8.7086e+05  7e+05  2e-04  3e-12\n",
      " 3: -2.8437e+05 -4.9542e+05  2e+05  4e-05  3e-12\n",
      " 4: -3.1788e+05 -4.5048e+05  1e+05  2e-05  4e-12\n",
      " 5: -3.4234e+05 -4.1113e+05  7e+04  8e-06  4e-12\n",
      " 6: -3.5328e+05 -3.9316e+05  4e+04  3e-06  5e-12\n",
      " 7: -3.6107e+05 -3.7970e+05  2e+04  5e-07  5e-12\n",
      " 8: -3.6582e+05 -3.7202e+05  6e+03  1e-07  5e-12\n",
      " 9: -3.6755e+05 -3.6949e+05  2e+03  3e-08  5e-12\n",
      "10: -3.6822e+05 -3.6854e+05  3e+02  3e-09  6e-12\n",
      "11: -3.6835e+05 -3.6837e+05  2e+01  9e-11  6e-12\n",
      "12: -3.6836e+05 -3.6836e+05  1e+00  4e-12  6e-12\n",
      "13: -3.6836e+05 -3.6836e+05  4e-02  1e-13  6e-12\n",
      "Optimal solution found.\n"
     ]
    }
   ],
   "source": [
    "alpha_star0 = solve_dual_SVM(K_Xtr0,2*y0-1., lambda_= 0.000001)\n",
    "alpha_star1 = solve_dual_SVM(K_Xtr1,2*y1-1., lambda_= 0.000001)\n",
    "alpha_star2 = solve_dual_SVM(K_Xtr2,2*y2-1., lambda_= 0.000001)"
   ]
  },
  {
   "cell_type": "markdown",
   "metadata": {},
   "source": [
    "### 2.3. Predictions on test set  "
   ]
  },
  {
   "cell_type": "code",
   "execution_count": 10,
   "metadata": {},
   "outputs": [],
   "source": [
    "# We should parallelize this computation\n",
    "K_Xte0 = GaussKernel(Xtr0_mat100, Xte0_mat100)\n",
    "np.save(\"Kernel_Matrix/gaussian_kernel_Xte0.npy\",K_Xte0)\n",
    "\n",
    "K_Xte1 = GaussKernel(Xtr1_mat100, Xte1_mat100)\n",
    "np.save(\"Kernel_Matrix/gaussian_kernel_Xte1.npy\",K_Xte1)\n",
    "\n",
    "K_Xte2 = GaussKernel(Xtr2_mat100, Xte2_mat100)\n",
    "np.save(\"Kernel_Matrix/gaussian_kernel_Xte2.npy\",K_Xte2)"
   ]
  },
  {
   "cell_type": "code",
   "execution_count": 64,
   "metadata": {},
   "outputs": [],
   "source": [
    "prediction0 = alpha_star0.reshape(-1,1).T.dot(K_Xte0)\n",
    "prediction0[prediction0>0] = 1\n",
    "prediction0[prediction0 <0] = 0\n",
    "\n",
    "prediction1 = alpha_star1.reshape(-1,1).T.dot(K_Xte1)\n",
    "prediction1[prediction1>0] = 1\n",
    "prediction1[prediction1 <0] = 0\n",
    "\n",
    "prediction2 = alpha_star2.reshape(-1,1).T.dot(K_Xte2)\n",
    "prediction2[prediction2>0] = 1\n",
    "prediction2[prediction2 <0] = 0"
   ]
  },
  {
   "cell_type": "markdown",
   "metadata": {},
   "source": [
    "### 2.4. Evaluation"
   ]
  },
  {
   "cell_type": "code",
   "execution_count": 101,
   "metadata": {},
   "outputs": [
    {
     "name": "stdout",
     "output_type": "stream",
     "text": [
      "Train Accuracy 0: 0.643\n",
      "Train Accuracy 1: 0.6759999999999999\n",
      "Train Accuracy 2: 0.677\n"
     ]
    }
   ],
   "source": [
    "train_prediction0 = (np.sign(alpha_star0.reshape(-1,1).T.dot(K_Xtr0))+1)/2\n",
    "print('Train Accuracy 0:',1- np.abs(train_prediction0 - y0).sum()/y0.shape[0])\n",
    "\n",
    "train_prediction1 = (np.sign(alpha_star1.reshape(-1,1).T.dot(K_Xtr1))+1)/2\n",
    "print('Train Accuracy 1:',1- np.abs(train_prediction1 - y1).sum()/y1.shape[0])\n",
    "\n",
    "train_prediction2 = (np.sign(alpha_star2.reshape(-1,1).T.dot(K_Xtr2))+1)/2\n",
    "print('Train Accuracy 2:',1 - np.abs(train_prediction2 - y2).sum()/y2.shape[0])"
   ]
  },
  {
   "cell_type": "markdown",
   "metadata": {},
   "source": [
    "### 2.5. Writting the results"
   ]
  },
  {
   "cell_type": "code",
   "execution_count": 57,
   "metadata": {},
   "outputs": [],
   "source": [
    "predictions = np.squeeze(np.hstack((prediction0, prediction1, prediction2))).astype(int)\n",
    "df = pd.DataFrame({'Bound': predictions,\n",
    "                   'Id': np.arange(3000)})\n",
    "df = df[['Id','Bound']]"
   ]
  },
  {
   "cell_type": "code",
   "execution_count": 60,
   "metadata": {},
   "outputs": [],
   "source": [
    "df.to_csv(\"Predictions/gaussian_SVM.csv\",index = False)"
   ]
  },
  {
   "cell_type": "markdown",
   "metadata": {},
   "source": [
    "### 1.4 Sickit-learn"
   ]
  },
  {
   "cell_type": "code",
   "execution_count": null,
   "metadata": {},
   "outputs": [],
   "source": [
    "from sklearn.svm import SVC\n",
    "\n",
    "clf = SVC(gamma='auto')\n",
    "clf.fit(Xtr0_mat100, y0)\n",
    "predciton0_sk = clf.predict(Xte0_mat100)\n",
    "\n",
    "clf = SVC(gamma='auto')\n",
    "clf.fit(Xtr1_mat100, y1)\n",
    "predciton1_sk = clf.predict(Xte1_mat100)\n",
    "\n",
    "clf = SVC(gamma='auto')\n",
    "clf.fit(Xtr2_mat100, y2)\n",
    "predciton2_sk = clf.predict(Xte2_mat100)"
   ]
  },
  {
   "cell_type": "markdown",
   "metadata": {},
   "source": [
    "## 1. Spectrum Kernel"
   ]
  },
  {
   "cell_type": "markdown",
   "metadata": {},
   "source": [
    "### 1.1. Define the kernel"
   ]
  },
  {
   "cell_type": "code",
   "execution_count": 2,
   "metadata": {},
   "outputs": [],
   "source": [
    "def getSubString(mString, spectrum):\n",
    "    \n",
    "    dictionnary = {}\n",
    "    for i in range(len(mString)-spectrum+1):\n",
    "        if mString[i:i+spectrum] in dictionnary:\n",
    "            dictionnary[mString[i:i+spectrum]] += 1\n",
    "        else:\n",
    "            dictionnary[mString[i:i+spectrum]] = 1\n",
    "    return dictionnary\n",
    "\n",
    "def SpectrumKernelFunction(mString1, mString2, spectrum):\n",
    "    dictionnary1 = getSubString(mString1, spectrum)\n",
    "    dictionnary2 = getSubString(mString2, spectrum)\n",
    "    \n",
    "    kernel = 0\n",
    "    for i in dictionnary1:\n",
    "        if i in dictionnary2:\n",
    "            kernel += dictionnary1[i] * dictionnary2[i]\n",
    "    return kernel\n",
    "\n",
    "## We should improve this function to take less time\n",
    "def SpectrumKernelMatrix_train(serie,spectrum):\n",
    "    n = serie.shape[0]\n",
    "    K = np.zeros((n,n))\n",
    "    for i,seq1 in enumerate(serie):\n",
    "        for j,seq2 in enumerate(serie):\n",
    "            if i <= j :\n",
    "                K[i,j] = SpectrumKernelFunction(seq1, seq2, spectrum)\n",
    "                K[j,i] = K[i,j]\n",
    "    return(K)\n",
    "\n",
    "def SpectrumKernelMatrix_test(serie_train, serie_test, spectrum):\n",
    "    n = serie_train.shape[0]\n",
    "    m = serie_test.shape[0]\n",
    "    K = np.zeros((n,m))\n",
    "    for i,seq1 in enumerate(serie_test):\n",
    "        for j,seq2 in enumerate(serie_train):\n",
    "            K[j,i] = SpectrumKernelFunction(seq1, seq2, spectrum)\n",
    "    return(K)\n",
    "    "
   ]
  },
  {
   "cell_type": "markdown",
   "metadata": {},
   "source": [
    "We compute the Kernel matrix for each of the tree train sets and we save them in *Kernel_Matrix* directory"
   ]
  },
  {
   "cell_type": "code",
   "execution_count": 3,
   "metadata": {},
   "outputs": [],
   "source": [
    "# We should parallelize this computation\n",
    "\n",
    "if os.path.isfile(\"Kernel_Matrix/spectrum_kernel_Xtr0.npy\"):\n",
    "    K_Xtr0 = np.load(\"Kernel_Matrix/spectrum_kernel_Xtr0.npy\")\n",
    "else:\n",
    "    K_Xtr0 = SpectrumKernelMatrix_train(df_Xtr0['seq'],spectrum=3)\n",
    "    np.save(\"Kernel_Matrix/spectrum_kernel_Xtr0.npy\",K_Xtr0)\n",
    "\n",
    "if os.path.isfile(\"Kernel_Matrix/spectrum_kernel_Xtr1.npy\"):\n",
    "    K_Xtr1 = np.load(\"Kernel_Matrix/spectrum_kernel_Xtr1.npy\")\n",
    "else:\n",
    "    K_Xtr1 = SpectrumKernelMatrix_train(df_Xtr0['seq'],spectrum=3)\n",
    "    np.save(\"Kernel_Matrix/spectrum_kernel_Xtr1.npy\",K_Xtr1)\n",
    "\n",
    "if os.path.isfile(\"Kernel_Matrix/spectrum_kernel_Xtr2.npy\"):\n",
    "    K_Xtr2 = np.load(\"Kernel_Matrix/spectrum_kernel_Xtr2.npy\")\n",
    "else:\n",
    "    K_Xtr2 = SpectrumKernelMatrix_train(df_Xtr0['seq'],spectrum=3)\n",
    "    np.save(\"Kernel_Matrix/spectrum_kernel_Xtr2.npy\",K_Xtr2)"
   ]
  },
  {
   "cell_type": "markdown",
   "metadata": {},
   "source": [
    "We compute the Kernel matrix for each of the tree test sets and we save them in *Kernel_Matrix* directory"
   ]
  },
  {
   "cell_type": "code",
   "execution_count": 4,
   "metadata": {},
   "outputs": [],
   "source": [
    "# We should parallelize this computation\n",
    "if os.path.isfile(\"Kernel_Matrix/spectrum_kernel_Xte0.npy\"):\n",
    "    K_Xte0 = np.load(\"Kernel_Matrix/spectrum_kernel_Xte0.npy\")\n",
    "else:\n",
    "    K_Xte0 = SpectrumKernelMatrix_test(df_Xtr0['seq'],df_Xte0['seq'],spectrum=3)\n",
    "    np.save(\"Kernel_Matrix/spectrum_kernel_Xte0.npy\",K_Xtr0)\n",
    "\n",
    "if os.path.isfile(\"Kernel_Matrix/spectrum_kernel_Xte1.npy\"):\n",
    "    K_Xte1 = np.load(\"Kernel_Matrix/spectrum_kernel_Xte1.npy\")\n",
    "else:\n",
    "    K_Xte1 = SpectrumKernelMatrix_test(df_Xtr1['seq'],df_Xte1['seq'],spectrum=3)\n",
    "    np.save(\"Kernel_Matrix/spectrum_kernel_Xte1.npy\",K_Xtr1)\n",
    "\n",
    "if os.path.isfile(\"Kernel_Matrix/spectrum_kernel_Xte2.npy\"):\n",
    "    K_Xte2 = np.load(\"Kernel_Matrix/spectrum_kernel_Xte2.npy\")\n",
    "else:\n",
    "    K_Xte2 = SpectrumKernelMatrix_test(df_Xtr2['seq'],df_Xte2['seq'],spectrum=3)\n",
    "    np.save(\"Kernel_Matrix/spectrum_kernel_Xte2.npy\",K_Xtr2)"
   ]
  },
  {
   "cell_type": "markdown",
   "metadata": {},
   "source": [
    "### 1.2. Solve the standard weighted kernel logisitc regression (WKLR) problem"
   ]
  },
  {
   "cell_type": "code",
   "execution_count": 73,
   "metadata": {},
   "outputs": [],
   "source": [
    "def sigmoid(x):\n",
    "    return 1/(1+np.exp(-x))\n",
    "\n",
    "### We need to improve this ####\n",
    "def sqrtMatrix(W):\n",
    "    # To compute the square root of a symetric positive matrix\n",
    "    D,V = np.linalg.eig(W)\n",
    "    return np.dot(np.dot(V,np.diag(np.sqrt(D))),np.linalg.inv(V))\n",
    "\n",
    "def solveWKRR(K,W,z,lambda_):\n",
    "    n = K.shape[0]\n",
    "    W_sqrt = np.real(sqrtMatrix(W))\n",
    "    \n",
    "    temp = np.dot(np.dot(W_sqrt,K),W_sqrt) +  n*lambda_*np.eye(n)\n",
    "    return  np.dot(W_sqrt,np.linalg.solve(temp,np.dot(W_sqrt,z)))\n",
    "\n",
    "def solveKLR(K,y,alpha0,lambda_ = 1,itermax = 30, eps =1e-6):\n",
    "    n = K.shape[0]\n",
    "    \n",
    "    iter_ = 0\n",
    "    last_alpha = 10*alpha0 + np.ones(alpha0.shape)\n",
    "    alpha = alpha0\n",
    "    \n",
    "    while (iter_< itermax) and (np.linalg.norm(last_alpha-alpha)>eps) :         \n",
    "        print(iter_,np.linalg.norm(last_alpha-alpha))\n",
    "        last_alpha = alpha\n",
    "        m = np.dot(K,alpha)\n",
    "        P = np.zeros((n,1))\n",
    "        W = np.zeros((n,n))\n",
    "        z = np.zeros((n,1))\n",
    "        for i in range(n):\n",
    "            P[i,0] = -sigmoid(-y[i]*m[i])\n",
    "            W[i,i] = sigmoid(m[i])*sigmoid(-m[i])\n",
    "            z[i,0] = m[i] - (P[i,0]*y[i])/W[i,i]\n",
    "        alpha = solveWKRR(K,W,z,lambda_)\n",
    "        iter_ = iter_ +1\n",
    "        \n",
    "      \n",
    "    return alpha        "
   ]
  },
  {
   "cell_type": "code",
   "execution_count": 108,
   "metadata": {},
   "outputs": [
    {
     "name": "stdout",
     "output_type": "stream",
     "text": [
      "0 44.721359549995796\n",
      "1 0.0011128268050040811\n",
      "0 44.721359549995796\n",
      "1 0.0011160611709502266\n",
      "0 44.721359549995796\n",
      "1 0.0011167531281655258\n"
     ]
    }
   ],
   "source": [
    "K0 = K_Xtr0\n",
    "y_0 = y0.reshape((y0.shape[0],1))\n",
    "y_0 = 2*y_0-1\n",
    "n = y_0.shape[0]\n",
    "alpha0 = np.zeros((n,1))\n",
    "alpha_0 = solveKLR(K0,y_0,alpha0,10) \n",
    "\n",
    "K1 = K_Xtr1\n",
    "y_1 = y1.reshape((y1.shape[0],1))\n",
    "y_1 = 2*y_1-1\n",
    "n = y_1.shape[0]\n",
    "alpha0 = np.zeros((n,1))\n",
    "alpha_1 = solveKLR(K1,y_1,alpha0,10) \n",
    "\n",
    "K2 = K_Xtr2\n",
    "y_2 = y2.reshape((y2.shape[0],1))\n",
    "y_2 = 2*y_2-1\n",
    "n = y_2.shape[0]\n",
    "alpha0 = np.zeros((n,1))\n",
    "alpha_2 = solveKLR(K2,y_2,alpha0,10) "
   ]
  },
  {
   "cell_type": "code",
   "execution_count": 109,
   "metadata": {},
   "outputs": [
    {
     "name": "stdout",
     "output_type": "stream",
     "text": [
      "Accuracy: 0.9345\n",
      "Accuracy: 0.9515\n",
      "Accuracy: 0.9465\n"
     ]
    }
   ],
   "source": [
    "def sign(x):\n",
    "    y = x\n",
    "    n = x.shape[0]\n",
    "    for i in range(n):\n",
    "        if x[i,0] > 0:\n",
    "            y[i,0] = 1\n",
    "        else:\n",
    "            y[i,0] = 0\n",
    "    return y\n",
    "\n",
    "print('Accuracy:',np.linalg.norm(1-sign(np.dot(K0,alpha_0))+y_0,1)/y_0.shape[0])\n",
    "print('Accuracy:',np.linalg.norm(1-sign(np.dot(K1,alpha_1))+y_1,1)/y_0.shape[0])\n",
    "print('Accuracy:',np.linalg.norm(1-sign(np.dot(K2,alpha_2))+y_2,1)/y_0.shape[0])"
   ]
  },
  {
   "cell_type": "markdown",
   "metadata": {},
   "source": [
    "### 1.3 Results"
   ]
  }
 ],
 "metadata": {
  "kernelspec": {
   "display_name": "Python 3",
   "language": "python",
   "name": "python3"
  },
  "language_info": {
   "codemirror_mode": {
    "name": "ipython",
    "version": 3
   },
   "file_extension": ".py",
   "mimetype": "text/x-python",
   "name": "python",
   "nbconvert_exporter": "python",
   "pygments_lexer": "ipython3",
   "version": "3.6.7"
  }
 },
 "nbformat": 4,
 "nbformat_minor": 2
}
