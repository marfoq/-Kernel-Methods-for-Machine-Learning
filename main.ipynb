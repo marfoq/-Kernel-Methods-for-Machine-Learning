{
 "cells": [
  {
   "cell_type": "code",
   "execution_count": 48,
   "metadata": {},
   "outputs": [],
   "source": [
    "import numpy as np\n",
    "import pandas as pd \n",
    "from tqdm import tqdm\n",
    "import os"
   ]
  },
  {
   "cell_type": "markdown",
   "metadata": {},
   "source": [
    "# Kernel Methods for Machine Learning\n",
    "\n",
    "## Data Loading and exploration"
   ]
  },
  {
   "cell_type": "code",
   "execution_count": 49,
   "metadata": {
    "scrolled": true
   },
   "outputs": [],
   "source": [
    "# Train features\n",
    "df_Xtr0 = pd.read_csv(\"Data/Xtr0.csv\")\n",
    "df_Xtr1 = pd.read_csv(\"Data/Xtr1.csv\")\n",
    "df_Xtr2 = pd.read_csv(\"Data/Xtr2.csv\")\n",
    "\n",
    "df_Xtr0_mat100 = pd.read_csv(\"Data/Xtr0_mat100.csv\", header=None, sep=' ')\n",
    "df_Xtr1_mat100 = pd.read_csv(\"Data/Xtr1_mat100.csv\", header=None, sep=' ')\n",
    "df_Xtr2_mat100 = pd.read_csv(\"Data/Xtr2_mat100.csv\", header=None, sep=' ')\n",
    "\n",
    "# Train labels\n",
    "df_Ytr0 = pd.read_csv(\"Data/Ytr0.csv\")\n",
    "df_Ytr1 = pd.read_csv(\"Data/Ytr1.csv\")\n",
    "df_Ytr2 = pd.read_csv(\"Data/Ytr2.csv\")\n",
    "\n",
    "# Test features\n",
    "df_Xte0 = pd.read_csv(\"Data/Xte0.csv\")\n",
    "df_Xte1 = pd.read_csv(\"Data/Xte1.csv\")\n",
    "df_Xte2 = pd.read_csv(\"Data/Xte2.csv\")\n",
    "\n",
    "df_Xte0_mat100 = pd.read_csv(\"Data/Xte0_mat100.csv\", header=None, sep=' ')\n",
    "df_Xte1_mat100 = pd.read_csv(\"Data/Xte1_mat100.csv\", header=None, sep=' ')\n",
    "df_Xte2_mat100 = pd.read_csv(\"Data/Xte2_mat100.csv\", header=None, sep=' ')"
   ]
  },
  {
   "cell_type": "markdown",
   "metadata": {},
   "source": [
    "## 2. Gaussian Kernel"
   ]
  },
  {
   "cell_type": "markdown",
   "metadata": {},
   "source": [
    "### 2.1 Define the kernel"
   ]
  },
  {
   "cell_type": "code",
   "execution_count": 50,
   "metadata": {},
   "outputs": [],
   "source": [
    "## We need to parallize its computation\n",
    "def GaussKernel(X1, X2, sigma = 1):\n",
    "    n, m = X1.shape[0], X2.shape[0]\n",
    "    K = np.zeros((n,m))\n",
    "    \n",
    "    for i in range(n):\n",
    "        for j in range(m):\n",
    "            K[i,j] = np.exp(-((np.linalg.norm(X1[i]-X2[j]))**2)/(2*sigma**2))\n",
    "    return K"
   ]
  },
  {
   "cell_type": "markdown",
   "metadata": {},
   "source": [
    "We compute the Kernel matrix for each of the tree train sets and we save them in *Kernel_Matrix* directory"
   ]
  },
  {
   "cell_type": "code",
   "execution_count": 51,
   "metadata": {},
   "outputs": [],
   "source": [
    "# Tranforming into numpy.arrays -- train\n",
    "Xtr0_mat100 = np.array(df_Xtr0_mat100)\n",
    "Xtr1_mat100 = np.array(df_Xtr1_mat100)\n",
    "Xtr2_mat100 = np.array(df_Xtr2_mat100)\n",
    "\n",
    "# Tranforming into numpy.arrays -- test\n",
    "Xte0_mat100 = np.array(df_Xte0_mat100)\n",
    "Xte1_mat100 = np.array(df_Xte1_mat100)\n",
    "Xte2_mat100 = np.array(df_Xte2_mat100)\n",
    "\n",
    "# We should parallelize this computation\n",
    "if os.path.isfile(\"Kernel_Matrix/gaussian_kernel_Xtr0.npy\"):\n",
    "    K_Xtr0 = np.load(\"Kernel_Matrix/gaussian_kernel_Xtr0.npy\")\n",
    "else:\n",
    "    K_Xtr0 = GaussKernel(Xtr0_mat100, Xtr0_mat100)\n",
    "    np.save(\"Kernel_Matrix/gaussian_kernel_Xtr0.npy\",K_Xtr0)\n",
    "    \n",
    "if os.path.isfile(\"Kernel_Matrix/gaussian_kernel_Xtr1.npy\"):\n",
    "    K_Xtr1 = np.load(\"Kernel_Matrix/gaussian_kernel_Xtr1.npy\")\n",
    "else:\n",
    "    K_Xtr1 = GaussKernel(Xtr1_mat100, Xtr1_mat100)\n",
    "    np.save(\"Kernel_Matrix/gaussian_kernel_Xtr1.npy\",K_Xtr1)\n",
    "    \n",
    "if os.path.isfile(\"Kernel_Matrix/gaussian_kernel_Xtr2.npy\"):\n",
    "    K_Xtr2 = np.load(\"Kernel_Matrix/gaussian_kernel_Xtr2.npy\")\n",
    "else:\n",
    "    K_Xtr2 = GaussKernel(Xtr2_mat100, Xtr2_mat100)\n",
    "    np.save(\"Kernel_Matrix/gaussian_kernel_Xtr2.npy\",K_Xtr2)"
   ]
  },
  {
   "cell_type": "markdown",
   "metadata": {},
   "source": [
    "### 2.2. Implement SVM with gaussian kernel"
   ]
  },
  {
   "cell_type": "markdown",
   "metadata": {},
   "source": [
    "We solve the optimization problem $$\\left\\{\\begin{matrix}\n",
    "\\underset{\\alpha \\in \\mathbb{R}^{n}}{\\text{max}} \\hspace{0.1cm} 2\\alpha^{T}y - \\alpha^{T}K\\alpha \\\\ 0 \\leq y_i\\alpha_i \\leq \\frac{1}{2\\lambda n}, \\hspace{0.5cm} \\text{for} \\hspace{0.3cm} i = 0...n\n",
    "\\end{matrix}\\right. \\Leftrightarrow \\left\\{\\begin{matrix}\n",
    "\\underset{\\alpha \\in \\mathbb{R}^{n}}{\\text{min}} \\hspace{0.1cm} \\left \\|K^{1/2}\\alpha - \\tilde{y}\\right \\|^{2} \\\\ 0 \\leq y_i\\alpha_i \\leq \\frac{1}{2\\lambda n}, \\hspace{0.5cm} \\text{for} \\hspace{0.3cm} i = 0...n\n",
    "\\end{matrix}\\right.   $$\n",
    "Where $\\tilde{y} = K^{-1/2}y$"
   ]
  },
  {
   "cell_type": "code",
   "execution_count": null,
   "metadata": {},
   "outputs": [],
   "source": [
    "import cvxpy as cp\n",
    "from scipy.linalg import sqrtm\n",
    "\n",
    "def solve_dual_SVM(K,y, lambda_ = 1):\n",
    "    n = K.shape[0]\n",
    "    K_sqrt = sqrtm(K).astype(float)\n",
    "    y = 2*y - 1\n",
    "    y_tilde = np.linalg.solve(K_sqrt, y)\n",
    "    \n",
    "    # Construct the problem \n",
    "    alpha = cp.Variable(n)\n",
    "    objective = cp.Minimize(cp.sum_squares(K_sqrt*alpha - y_tilde))\n",
    "    constraints = [0 <= alpha, alpha.T*y <= 1/(2*n*lambda_)]\n",
    "    prob = cp.Problem(objective, constraints)\n",
    "\n",
    "    # The optimal objective value is returned by `prob.solve()`.\n",
    "    result = prob.solve(verbose=True)\n",
    "    # The optimal value for alpha is stored in `alpha.value`.\n",
    "    print(alpha.value)\n",
    "    return(alpha.value)"
   ]
  },
  {
   "cell_type": "code",
   "execution_count": null,
   "metadata": {},
   "outputs": [],
   "source": [
    "y0 = np.array(df_Ytr0)[:,1]\n",
    "alpha_star0 = solve_dual_SVM(K_Xtr0,y0)"
   ]
  },
  {
   "cell_type": "markdown",
   "metadata": {},
   "source": [
    "## 1. Spectrum Kernel"
   ]
  },
  {
   "cell_type": "markdown",
   "metadata": {},
   "source": [
    "### 1.1. Define the kernel"
   ]
  },
  {
   "cell_type": "code",
   "execution_count": 53,
   "metadata": {},
   "outputs": [],
   "source": [
    "def getSubString(mString, spectrum):\n",
    "    \n",
    "    dictionnary = {}\n",
    "    for i in range(len(mString)-spectrum+1):\n",
    "        if mString[i:i+spectrum] in dictionnary:\n",
    "            dictionnary[mString[i:i+spectrum]] += 1\n",
    "        else:\n",
    "            dictionnary[mString[i:i+spectrum]] = 1\n",
    "    return dictionnary\n",
    "\n",
    "def SpectrumKernelFunction(mString1, mString2, spectrum):\n",
    "    dictionnary1 = getSubString(mString1, spectrum)\n",
    "    dictionnary2 = getSubString(mString2, spectrum)\n",
    "    \n",
    "    kernel = 0\n",
    "    for i in dictionnary1:\n",
    "        if i in dictionnary2:\n",
    "            kernel += dictionnary1[i] * dictionnary2[i]\n",
    "    return kernel\n",
    "\n",
    "## We should improve this function to take less time\n",
    "def SpectrumKernelMatrix_train(serie,spectrum):\n",
    "    n = serie.shape[0]\n",
    "    K = np.zeros((n,n))\n",
    "    for i,seq1 in enumerate(serie):\n",
    "        for j,seq2 in enumerate(serie):\n",
    "            if i <= j :\n",
    "                K[i,j] = SpectrumKernelFunction(seq1, seq2, spectrum)\n",
    "                K[j,i] = K[i,j]\n",
    "    return(K)\n",
    "\n",
    "def SpectrumKernelMatrix_test(serie_train, serie_test, spectrum):\n",
    "    n = serie_train.shape[0]\n",
    "    m = serie_test.shape[0]\n",
    "    K = np.zeros((n,m))\n",
    "    for i,seq1 in enumerate(serie_test):\n",
    "        for j,seq2 in enumerate(serie_train):\n",
    "            K[j,i] = SpectrumKernelFunction(seq1, seq2, spectrum)\n",
    "    return(K)\n",
    "    "
   ]
  },
  {
   "cell_type": "markdown",
   "metadata": {},
   "source": [
    "We compute the Kernel matrix for each of the tree train sets and we save them in *Kernel_Matrix* directory"
   ]
  },
  {
   "cell_type": "code",
   "execution_count": 54,
   "metadata": {},
   "outputs": [],
   "source": [
    "# We should parallelize this computation\n",
    "\n",
    "if os.path.isfile(\"Kernel_Matrix/spectrum_kernel_Xtr0.npy\"):\n",
    "    K_Xtr0 = np.load(\"Kernel_Matrix/spectrum_kernel_Xtr0.npy\")\n",
    "else:\n",
    "    K_Xtr0 = SpectrumKernelMatrix_train(df_Xtr0['seq'],spectrum=3)\n",
    "    np.save(\"Kernel_Matrix/spectrum_kernel_Xtr0.npy\",K_Xtr0)\n",
    "\n",
    "if os.path.isfile(\"Kernel_Matrix/spectrum_kernel_Xtr1.npy\"):\n",
    "    K_Xtr1 = np.load(\"Kernel_Matrix/spectrum_kernel_Xtr1.npy\")\n",
    "else:\n",
    "    K_Xtr1 = SpectrumKernelMatrix_train(df_Xtr0['seq'],spectrum=3)\n",
    "    np.save(\"Kernel_Matrix/spectrum_kernel_Xtr1.npy\",K_Xtr1)\n",
    "\n",
    "if os.path.isfile(\"Kernel_Matrix/spectrum_kernel_Xtr2.npy\"):\n",
    "    K_Xtr2 = np.load(\"Kernel_Matrix/spectrum_kernel_Xtr2.npy\")\n",
    "else:\n",
    "    K_Xtr2 = SpectrumKernelMatrix_train(df_Xtr0['seq'],spectrum=3)\n",
    "    np.save(\"Kernel_Matrix/spectrum_kernel_Xtr2.npy\",K_Xtr2)"
   ]
  },
  {
   "cell_type": "markdown",
   "metadata": {},
   "source": [
    "We compute the Kernel matrix for each of the tree test sets and we save them in *Kernel_Matrix* directory"
   ]
  },
  {
   "cell_type": "code",
   "execution_count": 55,
   "metadata": {},
   "outputs": [],
   "source": [
    "# We should parallelize this computation\n",
    "if os.path.isfile(\"Kernel_Matrix/spectrum_kernel_Xte0.npy\"):\n",
    "    K_Xte0 = np.load(\"Kernel_Matrix/spectrum_kernel_Xte0.npy\")\n",
    "else:\n",
    "    K_Xte0 = SpectrumKernelMatrix_test(df_Xtr0['seq'],df_Xte0['seq'],spectrum=3)\n",
    "    np.save(\"Kernel_Matrix/spectrum_kernel_Xte0.npy\",K_Xtr0)\n",
    "\n",
    "if os.path.isfile(\"Kernel_Matrix/spectrum_kernel_Xte1.npy\"):\n",
    "    K_Xte1 = np.load(\"Kernel_Matrix/spectrum_kernel_Xte1.npy\")\n",
    "else:\n",
    "    K_Xte1 = SpectrumKernelMatrix_test(df_Xtr1['seq'],df_Xte1['seq'],spectrum=3)\n",
    "    np.save(\"Kernel_Matrix/spectrum_kernel_Xte1.npy\",K_Xtr1)\n",
    "\n",
    "if os.path.isfile(\"Kernel_Matrix/spectrum_kernel_Xte2.npy\"):\n",
    "    K_Xte2 = np.load(\"Kernel_Matrix/spectrum_kernel_Xte2.npy\")\n",
    "else:\n",
    "    K_Xte2 = SpectrumKernelMatrix_test(df_Xtr2['seq'],df_Xte2['seq'],spectrum=3)\n",
    "    np.save(\"Kernel_Matrix/spectrum_kernel_Xte2.npy\",K_Xtr2)"
   ]
  },
  {
   "cell_type": "markdown",
   "metadata": {},
   "source": [
    "### 1.2. Solve the standard weighted kernel logisitc regression (WKLR) problem"
   ]
  },
  {
   "cell_type": "code",
   "execution_count": 56,
   "metadata": {},
   "outputs": [],
   "source": [
    "def sigmoid(x):\n",
    "    return 1/(1+np.exp(-x))\n",
    "\n",
    "### We need to improve this ####\n",
    "def sqrtMatrix(W):\n",
    "    # To compute the square root of a symetric positive matrix\n",
    "    D,V = np.linalg.eig(W)\n",
    "    return np.dot(np.dot(V,np.diag(np.sqrt(D))),np.linalg.inv(V))\n",
    "\n",
    "def solveWKRR(K,W,z,lambda_):\n",
    "    n = K.shape[0]\n",
    "    W_sqrt = np.real(sqrtMatrix(W))\n",
    "    \n",
    "    temp = np.dot(np.dot(W_sqrt,K),W_sqrt) +  n*lambda_*np.eye(n)\n",
    "    return  np.dot(W,np.linalg.solve(temp,np.dot(W_sqrt,z)))\n",
    "\n",
    "def solveKLR(K,y,alpha0,lambda_ = 1,itermax = 30, eps =1e-8):\n",
    "    n = K.shape[0]\n",
    "    y = 2*y - 1\n",
    "    iter_ = 0\n",
    "    last_alpha = 10*alpha0 + np.ones(alpha0.shape)\n",
    "    alpha = alpha0\n",
    "    \n",
    "    while (iter_< itermax) and (np.linalg.norm(last_alpha-alpha)>eps) :         \n",
    "        print(iter_,np.linalg.norm(last_alpha-alpha))\n",
    "        last_alpha = alpha\n",
    "        m = np.dot(K,alpha)\n",
    "        P = np.zeros((n,1))\n",
    "        W = np.zeros((n,n))\n",
    "        z = np.zeros((n,1))\n",
    "        for i in range(n):\n",
    "            P[i,0] = -sigmoid(-y[i]*m[i])\n",
    "            W[i,i] = sigmoid(m[i])*sigmoid(-m[i])\n",
    "            z[i,0] = m[i] - (P[i,0]*y[i])/W[i,i]\n",
    "        alpha = solveWKRR(K,W,z,lambda_)\n",
    "        iter_ = iter_ +1\n",
    "        \n",
    "      \n",
    "    return alpha        "
   ]
  },
  {
   "cell_type": "code",
   "execution_count": 57,
   "metadata": {},
   "outputs": [],
   "source": [
    "K = np.load(\"Kernel_Matrix/spectrum_kernel_Xtr0.npy\")\n",
    "#y = df_Ytr0['Bound']\n",
    "y = np.array(df_Ytr0)[:,1].reshape((y.shape[0],1))\n",
    "n = y.shape[0]\n",
    "alpha0 = np.zeros((n,1))"
   ]
  },
  {
   "cell_type": "code",
   "execution_count": null,
   "metadata": {},
   "outputs": [
    {
     "name": "stdout",
     "output_type": "stream",
     "text": [
      "0 44.721359549995796\n",
      "1 0.005461291093845333\n",
      "2 1.1343572052692796e-05\n",
      "3 6.676492533533574e-07\n",
      "4 1.2232457940209857e-07\n",
      "5 2.245237446715551e-08\n"
     ]
    }
   ],
   "source": [
    "alpha = solveKLR(K,y,alpha0) "
   ]
  },
  {
   "cell_type": "code",
   "execution_count": null,
   "metadata": {},
   "outputs": [
    {
     "name": "stdout",
     "output_type": "stream",
     "text": [
      "Accuracy: 0.3835\n"
     ]
    }
   ],
   "source": [
    "def sign(x):\n",
    "    y = x\n",
    "    n = x.shape[0]\n",
    "    for i in range(n):\n",
    "        if x[i,0] > 0:\n",
    "            y[i,0] = 1\n",
    "        else:\n",
    "            y[i,0] = 0\n",
    "    return y\n",
    "\n",
    "print('Accuracy:',np.linalg.norm(sign(np.dot(K,alpha))-y,1)/y.shape[0])"
   ]
  },
  {
   "cell_type": "code",
   "execution_count": null,
   "metadata": {},
   "outputs": [],
   "source": [
    "print(K)"
   ]
  },
  {
   "cell_type": "markdown",
   "metadata": {},
   "source": [
    "### 1.3 Results"
   ]
  }
 ],
 "metadata": {
  "kernelspec": {
   "display_name": "Python 3",
   "language": "python",
   "name": "python3"
  },
  "language_info": {
   "codemirror_mode": {
    "name": "ipython",
    "version": 3
   },
   "file_extension": ".py",
   "mimetype": "text/x-python",
   "name": "python",
   "nbconvert_exporter": "python",
   "pygments_lexer": "ipython3",
   "version": "3.6.7"
  }
 },
 "nbformat": 4,
 "nbformat_minor": 2
}
