{
 "cells": [
  {
   "cell_type": "code",
   "execution_count": 1,
   "metadata": {},
   "outputs": [
    {
     "ename": "ImportError",
     "evalue": "No module named 'tqdm'",
     "output_type": "error",
     "traceback": [
      "\u001b[1;31m---------------------------------------------------------------------------\u001b[0m",
      "\u001b[1;31mImportError\u001b[0m                               Traceback (most recent call last)",
      "\u001b[1;32m<ipython-input-1-cba45511d11f>\u001b[0m in \u001b[0;36m<module>\u001b[1;34m()\u001b[0m\n\u001b[0;32m      1\u001b[0m \u001b[1;32mimport\u001b[0m \u001b[0mnumpy\u001b[0m \u001b[1;32mas\u001b[0m \u001b[0mnp\u001b[0m\u001b[1;33m\u001b[0m\u001b[0m\n\u001b[0;32m      2\u001b[0m \u001b[1;32mimport\u001b[0m \u001b[0mpandas\u001b[0m \u001b[1;32mas\u001b[0m \u001b[0mpd\u001b[0m\u001b[1;33m\u001b[0m\u001b[0m\n\u001b[1;32m----> 3\u001b[1;33m \u001b[1;32mfrom\u001b[0m \u001b[0mtqdm\u001b[0m \u001b[1;32mimport\u001b[0m \u001b[0mtqdm\u001b[0m\u001b[1;33m\u001b[0m\u001b[0m\n\u001b[0m",
      "\u001b[1;31mImportError\u001b[0m: No module named 'tqdm'"
     ]
    }
   ],
   "source": [
    "import numpy as np\n",
    "import pandas as pd \n",
    "from tqdm import tqdm"
   ]
  },
  {
   "cell_type": "markdown",
   "metadata": {},
   "source": [
    "# Kernel Methods for Machine Learning\n",
    "\n",
    "## Data Loading and exploration"
   ]
  },
  {
   "cell_type": "code",
   "execution_count": null,
   "metadata": {
    "scrolled": true
   },
   "outputs": [],
   "source": [
    "# Train features\n",
    "df_Xtr0 = pd.read_csv(\"Data/Xtr0.csv\")\n",
    "df_Xtr1 = pd.read_csv(\"Data/Xtr1.csv\")\n",
    "df_Xtr2 = pd.read_csv(\"Data/Xtr2.csv\")\n",
    "\n",
    "df_Xtr0_mat100 = pd.read_csv(\"Data/Xtr0_mat100.csv\", header=None, sep=' ')\n",
    "df_Xtr1_mat100 = pd.read_csv(\"Data/Xtr1_mat100.csv\", header=None, sep=' ')\n",
    "df_Xtr2_mat100 = pd.read_csv(\"Data/Xtr2_mat100.csv\", header=None, sep=' ')\n",
    "\n",
    "# Train labels\n",
    "df_Ytr0 = pd.read_csv(\"Data/Ytr0.csv\")\n",
    "df_Ytr1 = pd.read_csv(\"Data/Ytr1.csv\")\n",
    "df_Ytr2 = pd.read_csv(\"Data/Ytr2.csv\")\n",
    "\n",
    "# Test features\n",
    "df_Xte0 = pd.read_csv(\"Data/Xte0.csv\")\n",
    "df_Xte1 = pd.read_csv(\"Data/Xte1.csv\")\n",
    "df_Xte2 = pd.read_csv(\"Data/Xte2.csv\")\n",
    "\n",
    "df_Xte0_mat100 = pd.read_csv(\"Data/Xte0_mat100.csv\", header=None, sep=' ')\n",
    "df_Xte1_mat100 = pd.read_csv(\"Data/Xte1_mat100.csv\", header=None, sep=' ')\n",
    "df_Xte2_mat100 = pd.read_csv(\"Data/Xte2_mat100.csv\", header=None, sep=' ')"
   ]
  },
  {
   "cell_type": "markdown",
   "metadata": {},
   "source": [
    "## 2. Gaussian Kernel"
   ]
  },
  {
   "cell_type": "markdown",
   "metadata": {},
   "source": [
    "### 2.1 Define the kernel"
   ]
  },
  {
   "cell_type": "code",
   "execution_count": null,
   "metadata": {},
   "outputs": [],
   "source": [
    "## We need to parallize its computation\n",
    "def GaussKernel(X1, X2, sigma = 1):\n",
    "    n, m = X1.shape[0], X2.shape[0]\n",
    "    K = np.zeros((n,m))\n",
    "    \n",
    "    for i in range(n):\n",
    "        for j in range(m):\n",
    "            K[i,j] = np.exp(-((np.linalg.norm(X1[i]-X2[j]))**2)/(2*sigma**2))\n",
    "    return K"
   ]
  },
  {
   "cell_type": "markdown",
   "metadata": {},
   "source": [
    "We compute the Kernel matrix for each of the tree train sets and we save them in *Kernel_Matrix* directory"
   ]
  },
  {
   "cell_type": "code",
   "execution_count": null,
   "metadata": {},
   "outputs": [],
   "source": [
    "# Tranforming into numpy.arrays -- train\n",
    "Xtr0_mat100 = np.array(df_Xtr0_mat100)\n",
    "Xtr1_mat100 = np.array(df_Xtr1_mat100)\n",
    "Xtr2_mat100 = np.array(df_Xtr2_mat100)\n",
    "\n",
    "# Tranforming into numpy.arrays -- test\n",
    "Xte0_mat100 = np.array(df_Xte0_mat100)\n",
    "Xte1_mat100 = np.array(df_Xte1_mat100)\n",
    "Xte2_mat100 = np.array(df_Xte2_mat100)\n",
    "\n",
    "# Transforming the labels into numpy.arrays \n",
    "y0 = np.array(df_Ytr0)[:,1]\n",
    "y1 = np.array(df_Ytr1)[:,1]\n",
    "y2 = np.array(df_Ytr2)[:,1]\n",
    "\n",
    "# We should parallelize this computation\n",
    "K_Xtr0 = GaussKernel(Xtr0_mat100, Xtr0_mat100)\n",
    "np.save(\"Kernel_Matrix/gaussian_kernel_Xtr0.npy\",K_Xtr0)\n",
    "\n",
    "K_Xtr1 = GaussKernel(Xtr1_mat100, Xtr1_mat100)\n",
    "np.save(\"Kernel_Matrix/gaussian_kernel_Xtr1.npy\",K_Xtr1)\n",
    "\n",
    "K_Xtr2 = GaussKernel(Xtr2_mat100, Xtr2_mat100)\n",
    "np.save(\"Kernel_Matrix/gaussian_kernel_Xtr2.npy\",K_Xtr2)"
   ]
  },
  {
   "cell_type": "markdown",
   "metadata": {},
   "source": [
    "### 2.2. Implement SVM with gaussian kernel"
   ]
  },
  {
   "cell_type": "markdown",
   "metadata": {},
   "source": [
    "We solve the optimization problem $$\\left\\{\\begin{matrix}\n",
    "\\underset{\\alpha \\in \\mathbb{R}^{n}}{\\text{max}} \\hspace{0.1cm} 2\\alpha^{T}y - \\alpha^{T}K\\alpha \\\\ 0 \\leq y_i\\alpha_i \\leq \\frac{1}{2\\lambda n}, \\hspace{0.5cm} \\text{for} \\hspace{0.3cm} i = 0...n\n",
    "\\end{matrix}\\right. \\Leftrightarrow \\left\\{\\begin{matrix}\n",
    "\\underset{\\alpha \\in \\mathbb{R}^{n}}{\\text{min}} \\hspace{0.1cm} \\frac{1}{2}\\alpha^{T}P\\alpha + q^{t}\\alpha  \\\\ G\\alpha \\leq h\n",
    "\\end{matrix}\\right.   $$\n",
    "Where $\\tilde{P} = K$, $q = -y$, $G =\\binom{\\text{Diag}(y)}{-\\text{Diag}(y)} $ and $h=\\binom{\\frac{1}{2\\lambda n}\\mathcal{1}}{0}$"
   ]
  },
  {
   "cell_type": "code",
   "execution_count": null,
   "metadata": {},
   "outputs": [],
   "source": [
    "import cvxopt\n",
    "from cvxopt import matrix\n",
    "\n",
    "def solve_dual_SVM(K,y, lambda_ = 1):\n",
    "    n = K.shape[0] \n",
    "    G = np.vstack((np.diag(y),-np.diag(y)))\n",
    "    h = np.vstack(((1/(2*lambda_*n))*np.ones((n,1)),np.zeros((n,1))))\n",
    "\n",
    "    P = K\n",
    "    q = -y.reshape(-1,1)\n",
    "    #P = .5 * (P + P.T)  # make sure P is symmetric\n",
    "    args = [matrix(P), matrix(q)]\n",
    "\n",
    "    args.extend([matrix(G), matrix(h)])\n",
    "\n",
    "    sol = cvxopt.solvers.qp(*args) \n",
    "\n",
    "    return np.array(sol['x']).reshape((P.shape[1],))\n",
    "    \n"
   ]
  },
  {
   "cell_type": "code",
   "execution_count": null,
   "metadata": {},
   "outputs": [],
   "source": [
    "alpha_star0 = solve_dual_SVM(K_Xtr0,y0)\n",
    "alpha_star1 = solve_dual_SVM(K_Xtr1,y1)\n",
    "alpha_star2 = solve_dual_SVM(K_Xtr2,y2)"
   ]
  },
  {
   "cell_type": "markdown",
   "metadata": {},
   "source": [
    "### 2.3. Predictions on test set  "
   ]
  },
  {
   "cell_type": "code",
   "execution_count": null,
   "metadata": {},
   "outputs": [],
   "source": [
    "# We should parallelize this computation\n",
    "K_Xte0 = GaussKernel(Xtr0_mat100, Xte0_mat100)\n",
    "np.save(\"Kernel_Matrix/gaussian_kernel_Xte0.npy\",K_Xte0)\n",
    "\n",
    "K_Xte1 = GaussKernel(Xtr1_mat100, Xte1_mat100)\n",
    "np.save(\"Kernel_Matrix/gaussian_kernel_Xte1.npy\",K_Xte1)\n",
    "\n",
    "K_Xte2 = GaussKernel(Xtr2_mat100, Xte2_mat100)\n",
    "np.save(\"Kernel_Matrix/gaussian_kernel_Xte2.npy\",K_Xte2)"
   ]
  },
  {
   "cell_type": "code",
   "execution_count": null,
   "metadata": {},
   "outputs": [],
   "source": [
    "prediction0 = alpha_star0.reshape(-1,1).T.dot(K_Xte0)\n",
    "prediction0[prediction0>0] = 1\n",
    "prediction0[prediction0 <0] = 0\n",
    "\n",
    "prediction1 = alpha_star1.reshape(-1,1).T.dot(K_Xte1)\n",
    "prediction1[prediction1>0] = 1\n",
    "prediction1[prediction1 <0] = 0\n",
    "\n",
    "prediction2 = alpha_star2.reshape(-1,1).T.dot(K_Xte2)\n",
    "prediction2[prediction2>0] = 1\n",
    "prediction2[prediction2 <0] = 0"
   ]
  },
  {
   "cell_type": "markdown",
   "metadata": {},
   "source": [
    "### 1.4 Sickit-learn"
   ]
  },
  {
   "cell_type": "code",
   "execution_count": null,
   "metadata": {},
   "outputs": [],
   "source": [
    "from sklearn.svm import SVC\n",
    "\n",
    "clf = SVC(gamma='auto')\n",
    "clf.fit(Xtr0_mat100, y0)\n",
    "predciton0_sk = clf.predict(Xte0_mat100)\n",
    "\n",
    "clf = SVC(gamma='auto')\n",
    "clf.fit(Xtr1_mat100, y1)\n",
    "predciton1_sk = clf.predict(Xte1_mat100)\n",
    "\n",
    "clf = SVC(gamma='auto')\n",
    "clf.fit(Xtr2_mat100, y2)\n",
    "predciton2_sk = clf.predict(Xte2_mat100)"
   ]
  },
  {
   "cell_type": "markdown",
   "metadata": {},
   "source": [
    "## 1. Spectrum Kernel"
   ]
  },
  {
   "cell_type": "markdown",
   "metadata": {},
   "source": [
    "### 1.1. Define the kernel"
   ]
  },
  {
   "cell_type": "code",
   "execution_count": null,
   "metadata": {},
   "outputs": [],
   "source": [
    "def getSubString(mString, spectrum):\n",
    "    \n",
    "    dictionnary = {}\n",
    "    for i in range(len(mString)-spectrum+1):\n",
    "        if mString[i:i+spectrum] in dictionnary:\n",
    "            dictionnary[mString[i:i+spectrum]] += 1\n",
    "        else:\n",
    "            dictionnary[mString[i:i+spectrum]] = 1\n",
    "    return dictionnary\n",
    "\n",
    "def SpectrumKernelFunction(mString1, mString2, spectrum):\n",
    "    dictionnary1 = getSubString(mString1, spectrum)\n",
    "    dictionnary2 = getSubString(mString2, spectrum)\n",
    "    \n",
    "    kernel = 0\n",
    "    for i in dictionnary1:\n",
    "        if i in dictionnary2:\n",
    "            kernel += dictionnary1[i] * dictionnary2[i]\n",
    "    return kernel\n",
    "\n",
    "## We should improve this function to take less time\n",
    "def SpectrumKernelMatrix_train(serie,spectrum):\n",
    "    n = serie.shape[0]\n",
    "    K = np.zeros((n,n))\n",
    "    for i,seq1 in enumerate(serie):\n",
    "        for j,seq2 in enumerate(serie):\n",
    "            if i <= j :\n",
    "                K[i,j] = SpectrumKernelFunction(seq1, seq2, spectrum)\n",
    "                K[j,i] = K[i,j]\n",
    "    return(K)\n",
    "\n",
    "def SpectrumKernelMatrix_test(serie_train, serie_test, spectrum):\n",
    "    n = serie_train.shape[0]\n",
    "    m = serie_test.shape[0]\n",
    "    K = np.zeros((n,m))\n",
    "    for i,seq1 in enumerate(serie_test):\n",
    "        for j,seq2 in enumerate(serie_train):\n",
    "            K[j,i] = SpectrumKernelFunction(seq1, seq2, spectrum)\n",
    "    return(K)\n",
    "    "
   ]
  },
  {
   "cell_type": "markdown",
   "metadata": {},
   "source": [
    "We compute the Kernel matrix for each of the tree train sets and we save them in *Kernel_Matrix* directory"
   ]
  },
  {
   "cell_type": "code",
   "execution_count": null,
   "metadata": {},
   "outputs": [],
   "source": [
    "# We should parallelize this computation\n",
    "K_Xtr0 = SpectrumKernelMatrix_train(df_Xtr0['seq'],spectrum=3)\n",
    "np.save(\"Kernel_Matrix/spectrum_kernel_Xtr0.npy\",K_Xtr0)\n",
    "\n",
    "K_Xtr1 = SpectrumKernelMatrix_train(df_Xtr1['seq'],spectrum=3)\n",
    "np.save(\"Kernel_Matrix/spectrum_kernel_Xtr1.npy\",K_Xtr1)\n",
    "\n",
    "K_Xtr2 = SpectrumKernelMatrix_train(df_Xtr2['seq'],spectrum=3)\n",
    "np.save(\"Kernel_Matrix/spectrum_kernel_Xtr2.npy\",K_Xtr2)\n"
   ]
  },
  {
   "cell_type": "markdown",
   "metadata": {},
   "source": [
    "We compute the Kernel matrix for each of the tree test sets and we save them in *Kernel_Matrix* directory"
   ]
  },
  {
   "cell_type": "code",
   "execution_count": null,
   "metadata": {},
   "outputs": [],
   "source": [
    "# We should parallelize this computation\n",
    "K_Xte0 = SpectrumKernelMatrix_train(df_Xtr0['seq'],df_Xte0['seq'],spectrum=3)\n",
    "np.save(\"Kernel_Matrix/spectrum_kernel_Xte0.npy\",K_Xte0)\n",
    "\n",
    "K_Xte1 = SpectrumKernelMatrix_train(df_Xtr1['seq'],df_Xte1['seq'],spectrum=3)\n",
    "np.save(\"Kernel_Matrix/spectrum_kernel_Xte1.npy\",K_Xte1)\n",
    "\n",
    "K_Xte2 = SpectrumKernelMatrix_train(df_Xtr2['seq'],df_Xte2['seq'],spectrum=3)\n",
    "np.save(\"Kernel_Matrix/spectrum_kernel_Xte2.npy\",K_Xte2)"
   ]
  },
  {
   "cell_type": "markdown",
   "metadata": {},
   "source": [
    "### 1.2. Solve the standard weighted kernel logisitc regression (WKLR) problem"
   ]
  },
  {
   "cell_type": "code",
   "execution_count": null,
   "metadata": {},
   "outputs": [],
   "source": [
    "def sigmoid(x):\n",
    "    return 1/(1+np.exp(-x))\n",
    "\n",
    "### We need to improve this ####\n",
    "def sqrtMatrix(W):\n",
    "    # To compute the square root of a symetric positive matrix\n",
    "    D,V = np.linalg.eig(W)\n",
    "    return np.dot(np.dot(V,np.diag(np.sqrt(D))),np.linalg.inv(V))\n",
    "\n",
    "def solveWKRR(K,W,z,lambda_):\n",
    "    n = K.shape[0]\n",
    "    W_sqrt = np.real(sqrtMatrix(W))\n",
    "    \n",
    "    temp = np.dot(np.dot(W_sqrt,K),W_sqrt) +  n*lambda_*np.eye(n)\n",
    "    return  np.dot(W,np.linalg.solve(temp,np.dot(W_sqrt,z)))\n",
    "\n",
    "def solveKLR(K,y,alpha0,lambda_ = 1,itermax = 30, eps =1e-6):\n",
    "    n = K.shape[0]\n",
    "    \n",
    "    iter_ = 0\n",
    "    last_alpha = 10*alpha0 + np.ones(alpha0.shape)\n",
    "    alpha = alpha0\n",
    "    \n",
    "    while (iter_< itermax) and (np.linalg.norm(last_alpha-alpha)>eps) :         \n",
    "        print(iter_,np.linalg.norm(last_alpha-alpha))\n",
    "        last_alpha = alpha\n",
    "        m = np.dot(K,alpha)\n",
    "        P = np.zeros((n,1))\n",
    "        W = np.zeros((n,n))\n",
    "        z = np.zeros((n,1))\n",
    "        for i in range(n):\n",
    "            P[i,0] = -sigmoid(-y[i]*m[i])\n",
    "            W[i,i] = sigmoid(m[i])*sigmoid(-m[i])\n",
    "            z[i,0] = m[i] - (P[i,0]*y[i])/W[i,i]\n",
    "        alpha = solveWKRR(K,W,z,lambda_)\n",
    "        iter_ = iter_ +1\n",
    "        \n",
    "      \n",
    "    return alpha        "
   ]
  },
  {
   "cell_type": "code",
   "execution_count": null,
   "metadata": {},
   "outputs": [],
   "source": [
    "K = np.load(\"Kernel_Matrix/spectrum_kernel_Xtr0.npy\")\n",
    "y = df_Ytr0['Bound']\n",
    "n = y.shape[0]\n",
    "alpha0 = np.zeros(n) "
   ]
  },
  {
   "cell_type": "code",
   "execution_count": null,
   "metadata": {},
   "outputs": [],
   "source": [
    "alpha = solveKLR(K,y,alpha0) "
   ]
  },
  {
   "cell_type": "code",
   "execution_count": null,
   "metadata": {},
   "outputs": [],
   "source": [
    "def sign(x):\n",
    "    y = x\n",
    "    n = x.shape[0]\n",
    "    for i in range(n):\n",
    "        if x[i,0] > 0:\n",
    "            y[i,0] = 1\n",
    "        else:\n",
    "            y[i,0] = 0\n",
    "    return y\n",
    "\n",
    "print(alpha,np.dot(K,alpha),y)"
   ]
  },
  {
   "cell_type": "code",
   "execution_count": null,
   "metadata": {},
   "outputs": [],
   "source": [
    "print(K)"
   ]
  },
  {
   "cell_type": "markdown",
   "metadata": {},
   "source": [
    "### 1.3 Results"
   ]
  }
 ],
 "metadata": {
  "kernelspec": {
   "display_name": "Python 3",
   "language": "python",
   "name": "python3"
  },
  "language_info": {
   "codemirror_mode": {
    "name": "ipython",
    "version": 3
   },
   "file_extension": ".py",
   "mimetype": "text/x-python",
   "name": "python",
   "nbconvert_exporter": "python",
   "pygments_lexer": "ipython3",
   "version": "3.5.5"
  }
 },
 "nbformat": 4,
 "nbformat_minor": 2
}
