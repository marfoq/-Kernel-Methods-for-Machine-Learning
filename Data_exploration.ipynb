{
 "cells": [
  {
   "cell_type": "code",
   "execution_count": 1,
   "metadata": {},
   "outputs": [],
   "source": [
    "import numpy as np\n",
    "import pandas as pd \n",
    "from tqdm import tqdm"
   ]
  },
  {
   "cell_type": "markdown",
   "metadata": {},
   "source": [
    "# Kernel Methods for Machine Learning\n",
    "\n",
    "## Data Loading and exploration"
   ]
  },
  {
   "cell_type": "code",
   "execution_count": 2,
   "metadata": {},
   "outputs": [],
   "source": [
    "# Train features\n",
    "df_Xtr0 = pd.read_csv(\"Data/Xtr0.csv\")\n",
    "df_Xtr1 = pd.read_csv(\"Data/Xtr1.csv\")\n",
    "df_Xtr2 = pd.read_csv(\"Data/Xtr2.csv\")\n",
    "\n",
    "# Train labels\n",
    "df_Ytr0 = pd.read_csv(\"Data/Ytr0.csv\")\n",
    "df_Ytr1 = pd.read_csv(\"Data/Ytr1.csv\")\n",
    "df_Ytr2 = pd.read_csv(\"Data/Ytr2.csv\")\n",
    "\n",
    "# Test features\n",
    "df_Xte0 = pd.read_csv(\"Data/Xte0.csv\")\n",
    "df_Xte1 = pd.read_csv(\"Data/Xte1.csv\")\n",
    "df_Xte2 = pd.read_csv(\"Data/Xte2.csv\")"
   ]
  },
  {
   "cell_type": "markdown",
   "metadata": {},
   "source": [
    "## 1. Spectrum Kernel"
   ]
  },
  {
   "cell_type": "markdown",
   "metadata": {},
   "source": [
    "### 1.1. Define the kernel"
   ]
  },
  {
   "cell_type": "code",
   "execution_count": 3,
   "metadata": {},
   "outputs": [],
   "source": [
    "def getSubString(mString, spectrum):\n",
    "    tmpList = []\n",
    "    if (spectrum == 0):\n",
    "        tmpList = ['']\n",
    "    else:\n",
    "        for i in range(len(mString)-spectrum+1):\n",
    "            mStringRes = ''\n",
    "            for j in range(spectrum):\n",
    "                mStringRes += mString[i+j]\n",
    "            tmpList.append(mStringRes)\n",
    "    return tmpList\n",
    "\n",
    "def SpectrumKernelFunction(mString1, mString2, spectrum):\n",
    "    subString1 = getSubString(mString1, spectrum)\n",
    "    subString2 = getSubString(mString2, spectrum)\n",
    "    kernel = 0\n",
    "    for i in subString1:\n",
    "        for j in subString2:\n",
    "            if (i==j):\n",
    "                kernel += 1\n",
    "    return kernel\n",
    "\n",
    "## We should improve this function to take less time\n",
    "def SpectrumKernelMatrix_train(serie,spectrum):\n",
    "    n = serie.shape[0]\n",
    "    K = np.zeros((n,n))\n",
    "    for i,seq1 in enumerate(tqdm(serie)):\n",
    "        for j,seq2 in enumerate(serie):\n",
    "            if i <= j :\n",
    "                K[i,j] = SpectrumKernelFunction(seq1, seq2, spectrum)\n",
    "                K[j,i] = SpectrumKernelFunction(seq1, seq2, spectrum)\n",
    "    return(K)\n",
    "\n",
    "def SpectrumKernelMatrix_test(serie_train, serie_test, spectrum):\n",
    "    n = serie_train.shape[0]\n",
    "    m = serie_test.shape[0]\n",
    "    K = np.zeros((n,m))\n",
    "    for i,seq1 in enumerate(tqdm(serie_test)):\n",
    "        for j,seq2 in enumerate(serie_train):\n",
    "            K[j,i] = SpectrumKernelFunction(seq1, seq2, spectrum)\n",
    "    \n",
    "    "
   ]
  },
  {
   "cell_type": "markdown",
   "metadata": {},
   "source": [
    "We compute the Kernel matrix for each of the tree train sets and we save them in *Kernel_Matrix* directory"
   ]
  },
  {
   "cell_type": "code",
   "execution_count": null,
   "metadata": {},
   "outputs": [],
   "source": [
    "# We should parallelize this computation\n",
    "K_Xtr0 = SpectrumKernelMatrix_train(df_Xtr0['seq'],spectrum=3)\n",
    "np.save(\"Kernel_Matrix/spectrum_kernel_Xtr0.npy\",K_Xtr0)\n",
    "\n",
    "K_Xtr1 = SpectrumKernelMatrix_train(df_Xtr1['seq'],spectrum=3)\n",
    "np.save(\"Kernel_Matrix/spectrum_kernel_Xtr1.npy\",K_Xtr1)\n",
    "\n",
    "K_Xtr2 = SpectrumKernelMatrix_train(df_Xtr2['seq'],spectrum=3)\n",
    "np.save(\"Kernel_Matrix/spectrum_kernel_Xtr2.npy\",K_Xtr2)\n"
   ]
  },
  {
   "cell_type": "markdown",
   "metadata": {},
   "source": [
    "We compute the Kernel matrix for each of the tree test sets and we save them in *Kernel_Matrix* directory"
   ]
  },
  {
   "cell_type": "code",
   "execution_count": null,
   "metadata": {},
   "outputs": [],
   "source": [
    "# We should parallelize this computation\n",
    "K_Xte0 = SpectrumKernelMatrix_train(df_Xtr0['seq'],df_Xte0['seq'],spectrum=3)\n",
    "np.save(\"Kernel_Matrix/spectrum_kernel_Xte0.npy\",K_Xte0)\n",
    "\n",
    "K_Xte1 = SpectrumKernelMatrix_train(df_Xtr1['seq'],df_Xte1['seq'],spectrum=3)\n",
    "np.save(\"Kernel_Matrix/spectrum_kernel_Xte1.npy\",K_Xte1)\n",
    "\n",
    "K_Xte2 = SpectrumKernelMatrix_train(df_Xtr2['seq'],df_Xte2['seq'],spectrum=3)\n",
    "np.save(\"Kernel_Matrix/spectrum_kernel_Xte2.npy\",K_Xte2)"
   ]
  },
  {
   "cell_type": "markdown",
   "metadata": {},
   "source": [
    "### 1.2. Solve the standard weighted kernel ridge regression (WKRR) problem"
   ]
  },
  {
   "cell_type": "code",
   "execution_count": 4,
   "metadata": {},
   "outputs": [],
   "source": [
    "def sigmoid(x):\n",
    "    return 1/(1+np.exp(-x))\n",
    "\n",
    "### We need to improve this ####\n",
    "def sqrtMatrix(W):\n",
    "    # To compute the square root of a symetric positive matrix\n",
    "    D,V = np.linalg.eig(W)\n",
    "    return np.dot(np.dot(V,np.diag(np.sqrt(D))),np.linalg.inv(V))\n",
    "    \n",
    "\n",
    "\n",
    "def solveWKRR(K,W,z,lambda_):\n",
    "    n = K.shape[0]\n",
    "    W_sqrt = np.real(sqrtMatrix(W))\n",
    "    \n",
    "    temp = np.dot(np.dot(W_sqrt,K),W_sqrt) +  n*lambda_*np.eye(n)\n",
    "    return  np.dot(W,np.linalg.solve(temp,np.dot(W_sqrt,z)))\n",
    "\n",
    "def solveKLR(K,y,alpha0,lambda_ = 1,itermax = 10, eps =1e-3):\n",
    "    n = K.shape[0]\n",
    "    \n",
    "    iter_ = 0\n",
    "    alpha = alpha0\n",
    "    while(iter_< itermax): # Add stopping criteria\n",
    "        print(iter_)\n",
    "        m = np.dot(K,alpha)\n",
    "        P = np.zeros((n,1))\n",
    "        W = np.zeros((n,n))\n",
    "        z = np.zeros((n,1))\n",
    "        for i in range(n):\n",
    "            P[i,0] = -sigmoid(-y[i]*m[i])\n",
    "            W[i,i] = sigmoid(m[i])*sigmoid(-m[i])\n",
    "            z[i,0] = m[i] - (P[i,0]*y[i])/W[i,i]\n",
    "        alpha = solveWKRR(K,W,z,lambda_)\n",
    "        iter_ = iter_ +1\n",
    "      \n",
    "    return alpha\n",
    "            \n",
    "    \n"
   ]
  },
  {
   "cell_type": "code",
   "execution_count": 5,
   "metadata": {},
   "outputs": [],
   "source": [
    "K = np.load(\"Kernel_Matrix/spectrum_kernel_Xtr0.npy\")\n",
    "y = df_Ytr0['Bound']\n",
    "n = y.shape[0]\n",
    "alpha0 = np.zeros(n) "
   ]
  },
  {
   "cell_type": "code",
   "execution_count": 6,
   "metadata": {},
   "outputs": [
    {
     "name": "stdout",
     "output_type": "stream",
     "text": [
      "0\n",
      "1\n",
      "2\n",
      "3\n",
      "4\n",
      "5\n",
      "6\n",
      "7\n",
      "8\n",
      "9\n"
     ]
    }
   ],
   "source": [
    "alpha = solveKLR(K,y,alpha0) "
   ]
  },
  {
   "cell_type": "code",
   "execution_count": null,
   "metadata": {},
   "outputs": [],
   "source": [
    "\n"
   ]
  },
  {
   "cell_type": "markdown",
   "metadata": {},
   "source": [
    "### 1.3 Results"
   ]
  }
 ],
 "metadata": {
  "kernelspec": {
   "display_name": "Python 3",
   "language": "python",
   "name": "python3"
  },
  "language_info": {
   "codemirror_mode": {
    "name": "ipython",
    "version": 3
   },
   "file_extension": ".py",
   "mimetype": "text/x-python",
   "name": "python",
   "nbconvert_exporter": "python",
   "pygments_lexer": "ipython3",
   "version": "3.7.0"
  }
 },
 "nbformat": 4,
 "nbformat_minor": 2
}
